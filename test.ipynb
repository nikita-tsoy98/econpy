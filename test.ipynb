{
 "cells": [
  {
   "cell_type": "code",
   "execution_count": 1,
   "metadata": {},
   "outputs": [],
   "source": [
    "import numpy as np\n",
    "\n",
    "import econpy as ep\n",
    "from econpy.lin.tests import test_err"
   ]
  },
  {
   "cell_type": "code",
   "execution_count": 3,
   "metadata": {},
   "outputs": [
    {
     "data": {
      "text/plain": [
       "(array([[1.01209159, 1.99392029]]),\n",
       " array([[[1.19092651e-03, 9.15351248e-05],\n",
       "         [9.15351248e-05, 1.19738269e-03]]]))"
      ]
     },
     "execution_count": 3,
     "metadata": {},
     "output_type": "execute_result"
    }
   ],
   "source": [
    "seed = 179\n",
    "rng = np.random.default_rng(seed)\n",
    "\n",
    "n = 1001\n",
    "d = 2\n",
    "\n",
    "X = rng.standard_normal((d, n))\n",
    "b = np.array([1., 2.])\n",
    "w = rng.uniform(0, 1, n)\n",
    "\n",
    "Y_err = rng.standard_normal((1, n))\n",
    "Y = b @ X + Y_err\n",
    "\n",
    "ep.lin.est.ols(Y, X, ep.lin.err.hc1)\n",
    "ep.lin.est.wls(Y, X, w, ep.lin.err.hc1)"
   ]
  },
  {
   "cell_type": "code",
   "execution_count": null,
   "metadata": {},
   "outputs": [],
   "source": [
    "seed = 179\n",
    "rng = np.random.default_rng(seed)\n",
    "\n",
    "n = 1001\n",
    "r = 3\n",
    "d = 2\n",
    "\n",
    "\n",
    "Z = rng.standard_normal((r, n))\n",
    "g = np.array([[1., 2., 0.],\n",
    "              [0., 1., 1.]])\n",
    "b = np.array([[1., 2.]])\n",
    "w = rng.uniform(0, 1, n)\n",
    "X_err = rng.standard_normal((d, n))\n",
    "X = g @ Z + X_err\n",
    "Y_err = rng.standard_normal((1, n))\n",
    "Y = (b @ g) @ Z + Y_err\n",
    "\n",
    "ep.lin.est.ols(Y, X, ep.lin.err.hc1)\n",
    "ep.lin.est.wls(Y, X, w, ep.lin.err.hc1)"
   ]
  },
  {
   "cell_type": "code",
   "execution_count": 5,
   "metadata": {},
   "outputs": [
    {
     "name": "stdout",
     "output_type": "stream",
     "text": [
      "Error rate OLS: 67.50% Error rate WLS: 68.20%\n",
      "Error rate OLS: 68.20% Error rate WLS: 67.50%\n",
      "Error rate OLS: 68.90% Error rate WLS: 66.60%\n",
      "\n",
      "Error rate TSLS: 68.40% Error rate WTSLS: 67.90%\n",
      "Error rate TSLS: 70.90% Error rate WTSLS: 69.60%\n",
      "Error rate TSLS: 69.70% Error rate WTSLS: 71.00%\n"
     ]
    }
   ],
   "source": [
    "test_errors.test(ep.linear.errors.get_hc2_err)"
   ]
  },
  {
   "cell_type": "code",
   "execution_count": 6,
   "metadata": {},
   "outputs": [
    {
     "name": "stdout",
     "output_type": "stream",
     "text": [
      "Error rate OLS: 67.40% Error rate WLS: 68.10%\n",
      "Error rate OLS: 68.20% Error rate WLS: 67.40%\n",
      "Error rate OLS: 68.90% Error rate WLS: 66.60%\n",
      "\n",
      "Error rate TSLS: 68.30% Error rate WTSLS: 67.70%\n",
      "Error rate TSLS: 70.80% Error rate WTSLS: 69.60%\n",
      "Error rate TSLS: 69.50% Error rate WTSLS: 70.90%\n"
     ]
    }
   ],
   "source": [
    "test_errors.test(ep.linear.errors.get_hc3_err)"
   ]
  },
  {
   "cell_type": "code",
   "execution_count": 2,
   "metadata": {},
   "outputs": [],
   "source": [
    "def print_estimate(models, prm_names):\n",
    "    for name in prm_names:\n",
    "        print(f\" {name:<10}\", end=\"\")\n",
    "    print()\n",
    "    for prm, prm_err in models:\n",
    "        for reg, reg_err in zip(prm, prm_err):\n",
    "            for est in reg:\n",
    "                print(f\" {est:<8.3g}  \", end=\"\")\n",
    "            print()\n",
    "            for err in reg_err.diagonal()**0.5:\n",
    "                print(f\"({err:<8.3g}) \", end=\"\")\n",
    "            print()"
   ]
  },
  {
   "cell_type": "code",
   "execution_count": 3,
   "metadata": {},
   "outputs": [],
   "source": [
    "seed = 179\n",
    "rng = np.random.default_rng(seed)"
   ]
  },
  {
   "cell_type": "code",
   "execution_count": 130,
   "metadata": {},
   "outputs": [
    {
     "name": "stdout",
     "output_type": "stream",
     "text": [
      "0.68\n"
     ]
    }
   ],
   "source": [
    "n = 1001\n",
    "d = 5\n",
    "\n",
    "X = rng.standard_normal((d, n))\n",
    "b = rng.uniform(0, 1, (1, d))\n",
    "w = rng.uniform(0, 1, n) * 10\n",
    "\n",
    "tries = 1000\n",
    "summ = 0\n",
    "\n",
    "for _ in range(tries):\n",
    "    Y_err = rng.standard_normal((1, n))\n",
    "    Y = b @ X + Y_err\n",
    "    prm, prm_err = estimate_wls(Y, X, w, get_hc1_err)\n",
    "    dev = prm - b\n",
    "    summ += np.abs(dev[0][0]) < (prm_err[0].diagonal()[0])**0.5\n",
    "\n",
    "print(summ / tries)"
   ]
  },
  {
   "cell_type": "code",
   "execution_count": 135,
   "metadata": {},
   "outputs": [
    {
     "name": "stdout",
     "output_type": "stream",
     "text": [
      "0.687\n"
     ]
    }
   ],
   "source": [
    "n = 1001\n",
    "d = 5\n",
    "r = 10\n",
    "\n",
    "Z = rng.standard_normal((r, n))\n",
    "g = rng.uniform(0, 1, (d, r))\n",
    "b = rng.uniform(0, 1, (1, d))\n",
    "b_err = rng.uniform(0, 1, (1, d))\n",
    "w = rng.uniform(0, 1, n) * 10\n",
    "\n",
    "tries = 1000\n",
    "summ = 0\n",
    "\n",
    "for _ in range(tries):\n",
    "    X_err = rng.standard_normal((d, n))\n",
    "    X = g @ Z + X_err\n",
    "    Y_err = rng.standard_normal((1, n))\n",
    "    Y = (b @ g) @ Z + b_err @ X_err + Y_err\n",
    "    prm, prm_err, _, _ = estimate_wtsls(Y, X, Z, w, get_hc1_err)\n",
    "    dev = prm - b\n",
    "    summ += np.abs(dev[0][0]) < (prm_err[0].diagonal()[0])**0.5\n",
    "\n",
    "print(summ / tries)"
   ]
  },
  {
   "cell_type": "code",
   "execution_count": 168,
   "metadata": {},
   "outputs": [
    {
     "name": "stdout",
     "output_type": "stream",
     "text": [
      " a          b          c          d          e         \n",
      " 0.637      0.698      0.371      0.84       0.884     \n",
      "(0.0391  ) (0.0478  ) (0.0439  ) (0.0458  ) (0.0415  ) \n",
      " 0.637      0.698      0.371      0.84       0.884     \n",
      "(0.0394  ) (0.0482  ) (0.0442  ) (0.0461  ) (0.0419  ) \n",
      " 0.637      0.698      0.371      0.84       0.884     \n",
      "(0.0396  ) (0.0483  ) (0.0445  ) (0.0464  ) (0.042   ) \n",
      " 0.603      0.675      0.427      0.861      0.887     \n",
      "(0.0469  ) (0.056   ) (0.0585  ) (0.062   ) (0.0493  ) \n",
      " 0.603      0.675      0.427      0.861      0.887     \n",
      "(0.0476  ) (0.0567  ) (0.0597  ) (0.063   ) (0.0499  ) \n",
      "\n",
      " a          b          c          d          e         \n",
      " 0.427      0.858      0.565      0.746      0.878     \n",
      "(0.0563  ) (0.0754  ) (0.0597  ) (0.08    ) (0.0693  ) \n",
      " 0.427      0.858      0.565      0.746      0.878     \n",
      "(0.0623  ) (0.0834  ) (0.066   ) (0.0885  ) (0.0766  ) \n",
      " 0.427      0.858      0.565      0.746      0.878     \n",
      "(0.057   ) (0.0762  ) (0.0604  ) (0.0809  ) (0.0701  ) \n",
      " 0.421      0.805      0.594      0.738      0.929     \n",
      "(0.0671  ) (0.0908  ) (0.0799  ) (0.106   ) (0.0919  ) \n",
      " 0.421      0.805      0.594      0.738      0.929     \n",
      "(0.0622  ) (0.0836  ) (0.0738  ) (0.0984  ) (0.085   ) \n"
     ]
    },
    {
     "data": {
      "text/plain": [
       "array([[0.44178532, 0.87867674, 0.62825521, 0.70674418, 0.82222899]])"
      ]
     },
     "execution_count": 168,
     "metadata": {},
     "output_type": "execute_result"
    }
   ],
   "source": [
    "n = 300\n",
    "d = 5\n",
    "r = 10\n",
    "\n",
    "Z = rng.standard_normal((r, n))\n",
    "g = rng.uniform(0, 1, (d, r))\n",
    "b = rng.uniform(0, 1, (1, d))\n",
    "b_err = rng.uniform(0, 1, (1, d))\n",
    "w = rng.uniform(0, 1, n) * 10\n",
    "\n",
    "X_err = rng.standard_normal((d, n))\n",
    "X = g @ Z + X_err\n",
    "Y_err = rng.standard_normal((1, n))\n",
    "Y = (b @ g) @ Z + b_err @ X_err + Y_err\n",
    "\n",
    "print_estimate(\n",
    "    (\n",
    "        estimate_ols(Y, X, get_hc0_err),\n",
    "        estimate_ols(Y, X, get_hc1_err),\n",
    "        estimate_ols(Y, X, get_hc2_err),\n",
    "        estimate_wls(Y, X, w, get_hc1_err),\n",
    "        estimate_wls(Y, X, w, get_hc2_err)),\n",
    "    ('a', 'b', 'c', 'd', 'e'))\n",
    "print()\n",
    "print_estimate(\n",
    "    (\n",
    "        estimate_tsls(Y, X, Z, get_hc0_err)[:2],\n",
    "        estimate_tsls(Y, X, Z, get_hc1_err)[:2],\n",
    "        estimate_tsls(Y, X, Z, get_hc2_err)[:2],\n",
    "        estimate_wtsls(Y, X, Z, w, get_hc1_err)[:2],\n",
    "        estimate_wtsls(Y, X, Z, w, get_hc2_err)[:2]),\n",
    "    ('a', 'b', 'c', 'd', 'e'))\n",
    "b"
   ]
  },
  {
   "cell_type": "code",
   "execution_count": 185,
   "metadata": {},
   "outputs": [],
   "source": []
  },
  {
   "cell_type": "code",
   "execution_count": 64,
   "metadata": {},
   "outputs": [],
   "source": []
  },
  {
   "cell_type": "code",
   "execution_count": 65,
   "metadata": {},
   "outputs": [
    {
     "name": "stdout",
     "output_type": "stream",
     "text": [
      "5 0.0001\n"
     ]
    }
   ],
   "source": [
    "n = 1001\n",
    "d = 5\n",
    "group_num = 100\n",
    "\n",
    "X = rng.standard_normal((d, n))\n",
    "fe1 = rng.integers(0, 10, n)\n",
    "fe2 = rng.integers(0, 5, n)\n",
    "fe3 = rng.integers(0, 7, n)\n",
    "int_fes = (fe1, fe2, fe3)\n",
    "real_fes = tuple()\n",
    "real_fe_weights = tuple()\n",
    "\n",
    "Y = absorb_fes((X.copy(),), int_fes, real_fes, real_fe_weights)[0]"
   ]
  },
  {
   "cell_type": "code",
   "execution_count": 66,
   "metadata": {},
   "outputs": [
    {
     "name": "stdout",
     "output_type": "stream",
     "text": [
      "3 0.0001\n"
     ]
    },
    {
     "data": {
      "text/plain": [
       "(array([[ 0.61976706,  0.67286403,  0.01455376, ..., -0.88299497,\n",
       "          0.11287554,  0.46086876],\n",
       "        [ 1.32596792, -0.01723872, -2.0954315 , ...,  3.29437931,\n",
       "         -0.23848466,  0.83593472],\n",
       "        [-0.98540658, -0.6730087 , -0.58328141, ...,  1.09590977,\n",
       "          0.29211602, -0.01794524],\n",
       "        [-2.23957403, -0.59031217,  0.58649004, ..., -0.65545657,\n",
       "         -0.65380379,  0.04834854],\n",
       "        [-0.55432767,  0.17049261, -0.92657864, ..., -0.43242741,\n",
       "         -0.76866692, -1.14397485]]),)"
      ]
     },
     "execution_count": 66,
     "metadata": {},
     "output_type": "execute_result"
    }
   ],
   "source": [
    "absorb_fes((Y.copy(),), int_fes, real_fes, real_fe_weights)"
   ]
  },
  {
   "cell_type": "code",
   "execution_count": 67,
   "metadata": {},
   "outputs": [
    {
     "data": {
      "text/plain": [
       "array([[ 0.61976786,  0.67286432,  0.01455404, ..., -0.88299544,\n",
       "         0.11287669,  0.46086823],\n",
       "       [ 1.32596916, -0.01723833, -2.09543133, ...,  3.29437887,\n",
       "        -0.23848368,  0.83593404],\n",
       "       [-0.98540586, -0.6730085 , -0.58328143, ...,  1.09590962,\n",
       "         0.29211638, -0.01794555],\n",
       "       [-2.23957478, -0.59031239,  0.58648975, ..., -0.65545607,\n",
       "        -0.65380515,  0.04834905],\n",
       "       [-0.55432788,  0.17049266, -0.92657831, ..., -0.4324277 ,\n",
       "        -0.76866638, -1.143975  ]])"
      ]
     },
     "execution_count": 67,
     "metadata": {},
     "output_type": "execute_result"
    }
   ],
   "source": [
    "Y"
   ]
  },
  {
   "cell_type": "code",
   "execution_count": 68,
   "metadata": {},
   "outputs": [
    {
     "data": {
      "text/plain": [
       "array([[ 0.44786132,  0.61150628, -0.04291387, ..., -0.70656259,\n",
       "         0.19839476,  0.51654182],\n",
       "       [ 1.43690275,  0.05921647, -1.98932377, ...,  3.14779131,\n",
       "        -0.35284057,  1.02808867],\n",
       "       [-0.94460508, -0.83203732, -0.36515009, ...,  1.11357138,\n",
       "         0.25777299,  0.21750395],\n",
       "       [-2.3248494 , -0.85107414,  0.48450332, ..., -0.7746397 ,\n",
       "        -0.43920506,  0.39139707],\n",
       "       [-0.53589184,  0.03376505, -0.97536275, ..., -0.44714407,\n",
       "        -0.69569879, -1.21082812]])"
      ]
     },
     "execution_count": 68,
     "metadata": {},
     "output_type": "execute_result"
    }
   ],
   "source": [
    "X"
   ]
  },
  {
   "cell_type": "code",
   "execution_count": null,
   "metadata": {},
   "outputs": [],
   "source": []
  }
 ],
 "metadata": {
  "kernelspec": {
   "display_name": "Python 3",
   "language": "python",
   "name": "python3"
  },
  "language_info": {
   "codemirror_mode": {
    "name": "ipython",
    "version": 3
   },
   "file_extension": ".py",
   "mimetype": "text/x-python",
   "name": "python",
   "nbconvert_exporter": "python",
   "pygments_lexer": "ipython3",
   "version": "3.11.6"
  }
 },
 "nbformat": 4,
 "nbformat_minor": 2
}
