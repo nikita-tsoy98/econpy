{
 "cells": [
  {
   "cell_type": "code",
   "execution_count": 1,
   "metadata": {},
   "outputs": [],
   "source": [
    "import numpy as np\n",
    "\n",
    "from base import *"
   ]
  },
  {
   "cell_type": "code",
   "execution_count": 2,
   "metadata": {},
   "outputs": [],
   "source": [
    "def print_estimate(models, prm_names):\n",
    "    for name in prm_names:\n",
    "        print(f\"{'':<5}{name:<15}\", end=\"\")\n",
    "    print()\n",
    "    for prm, prm_err in models:\n",
    "        for reg, reg_err in zip(prm, prm_err):\n",
    "            for est, err in zip(\n",
    "                reg, reg_err.diagonal()**0.5):\n",
    "                print(f\"{est:8.3g} ({err:8.3g})\", end=\" \")\n",
    "            print()"
   ]
  },
  {
   "cell_type": "code",
   "execution_count": 3,
   "metadata": {},
   "outputs": [],
   "source": [
    "seed = 179\n",
    "rng = np.random.default_rng(seed)"
   ]
  },
  {
   "cell_type": "code",
   "execution_count": 130,
   "metadata": {},
   "outputs": [
    {
     "name": "stdout",
     "output_type": "stream",
     "text": [
      "0.68\n"
     ]
    }
   ],
   "source": [
    "n = 1001\n",
    "d = 5\n",
    "\n",
    "X = rng.standard_normal((d, n))\n",
    "b = rng.uniform(0, 1, (1, d))\n",
    "w = rng.uniform(0, 1, n) * 10\n",
    "\n",
    "tries = 1000\n",
    "summ = 0\n",
    "\n",
    "for _ in range(tries):\n",
    "    Y_err = rng.standard_normal((1, n))\n",
    "    Y = b @ X + Y_err\n",
    "    prm, prm_err = estimate_wls(Y, X, w, get_hc1_err)\n",
    "    dev = prm - b\n",
    "    summ += np.abs(dev[0][0]) < (prm_err[0].diagonal()[0])**0.5\n",
    "\n",
    "print(summ / tries)"
   ]
  },
  {
   "cell_type": "code",
   "execution_count": 135,
   "metadata": {},
   "outputs": [
    {
     "name": "stdout",
     "output_type": "stream",
     "text": [
      "0.687\n"
     ]
    }
   ],
   "source": [
    "n = 1001\n",
    "d = 5\n",
    "r = 10\n",
    "\n",
    "Z = rng.standard_normal((r, n))\n",
    "g = rng.uniform(0, 1, (d, r))\n",
    "b = rng.uniform(0, 1, (1, d))\n",
    "b_err = rng.uniform(0, 1, (1, d))\n",
    "w = rng.uniform(0, 1, n) * 10\n",
    "\n",
    "tries = 1000\n",
    "summ = 0\n",
    "\n",
    "for _ in range(tries):\n",
    "    X_err = rng.standard_normal((d, n))\n",
    "    X = g @ Z + X_err\n",
    "    Y_err = rng.standard_normal((1, n))\n",
    "    Y = (b @ g) @ Z + b_err @ X_err + Y_err\n",
    "    prm, prm_err, _, _ = estimate_wtsls(Y, X, Z, w, get_hc1_err)\n",
    "    dev = prm - b\n",
    "    summ += np.abs(dev[0][0]) < (prm_err[0].diagonal()[0])**0.5\n",
    "\n",
    "print(summ / tries)"
   ]
  },
  {
   "cell_type": "code",
   "execution_count": 138,
   "metadata": {},
   "outputs": [
    {
     "name": "stdout",
     "output_type": "stream",
     "text": [
      "     a                   b                   c                   d                   e              \n",
      "    0.21 (  0.0268)    0.277 (  0.0251)    0.782 (  0.0258)    0.428 (  0.0245)    0.612 (  0.0244) \n",
      "    0.21 (  0.0268)    0.277 (  0.0252)    0.782 (  0.0258)    0.428 (  0.0245)    0.612 (  0.0245) \n",
      "    0.21 (  0.0269)    0.277 (  0.0252)    0.782 (  0.0259)    0.428 (  0.0245)    0.612 (  0.0245) \n",
      "   0.203 (  0.0319)    0.279 (  0.0296)    0.782 (  0.0277)    0.426 (  0.0283)     0.62 (  0.0275) \n",
      "   0.203 (   0.032)    0.279 (  0.0297)    0.782 (  0.0278)    0.426 (  0.0283)     0.62 (  0.0275) \n",
      "\n",
      "     a                   b                   c                   d                   e              \n",
      "   0.473 (  0.0703)    0.144 (  0.0493)     0.74 (  0.0493)    0.831 (   0.052)    0.136 (  0.0784) \n",
      "   0.473 (  0.0723)    0.144 (  0.0508)     0.74 (  0.0508)    0.831 (  0.0535)    0.136 (  0.0806) \n",
      "   0.473 (  0.0706)    0.144 (  0.0495)     0.74 (  0.0495)    0.831 (  0.0522)    0.136 (  0.0787) \n",
      "   0.447 (  0.0822)    0.124 (   0.059)    0.743 (  0.0594)    0.847 (  0.0602)    0.155 (  0.0898) \n",
      "   0.447 (  0.0803)    0.124 (  0.0577)    0.743 (   0.058)    0.847 (  0.0589)    0.155 (  0.0877) \n"
     ]
    },
    {
     "data": {
      "text/plain": [
       "array([[0.50677314, 0.16415471, 0.72815813, 0.85811569, 0.0814514 ]])"
      ]
     },
     "execution_count": 138,
     "metadata": {},
     "output_type": "execute_result"
    }
   ],
   "source": [
    "n = 1001\n",
    "d = 5\n",
    "r = 10\n",
    "\n",
    "Z = rng.standard_normal((r, n))\n",
    "g = rng.uniform(0, 1, (d, r))\n",
    "b = rng.uniform(0, 1, (1, d))\n",
    "b_err = rng.uniform(0, 1, (1, d))\n",
    "w = rng.uniform(0, 1, n) * 10\n",
    "\n",
    "X_err = rng.standard_normal((d, n))\n",
    "X = g @ Z + X_err\n",
    "Y_err = rng.standard_normal((1, n))\n",
    "Y = (b @ g) @ Z + b_err @ X_err + Y_err\n",
    "\n",
    "print_estimate(\n",
    "    (\n",
    "        estimate_ols(Y, X, get_hc0_err),\n",
    "        estimate_ols(Y, X, get_hc1_err),\n",
    "        estimate_ols(Y, X, get_hc2_err),\n",
    "        estimate_wls(Y, X, w, get_hc1_err),\n",
    "        estimate_wls(Y, X, w, get_hc2_err)),\n",
    "    ('a', 'b', 'c', 'd', 'e'))\n",
    "print()\n",
    "print_estimate(\n",
    "    (\n",
    "        estimate_tsls(Y, X, Z, get_hc0_err)[:2],\n",
    "        estimate_tsls(Y, X, Z, get_hc1_err)[:2],\n",
    "        estimate_tsls(Y, X, Z, get_hc2_err)[:2],\n",
    "        estimate_wtsls(Y, X, Z, w, get_hc1_err)[:2],\n",
    "        estimate_wtsls(Y, X, Z, w, get_hc2_err)[:2]),\n",
    "    ('a', 'b', 'c', 'd', 'e'))\n",
    "b"
   ]
  },
  {
   "cell_type": "code",
   "execution_count": null,
   "metadata": {},
   "outputs": [],
   "source": []
  }
 ],
 "metadata": {
  "kernelspec": {
   "display_name": "Python 3",
   "language": "python",
   "name": "python3"
  },
  "language_info": {
   "codemirror_mode": {
    "name": "ipython",
    "version": 3
   },
   "file_extension": ".py",
   "mimetype": "text/x-python",
   "name": "python",
   "nbconvert_exporter": "python",
   "pygments_lexer": "ipython3",
   "version": "3.11.6"
  }
 },
 "nbformat": 4,
 "nbformat_minor": 2
}
