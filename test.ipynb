{
 "cells": [
  {
   "cell_type": "code",
   "execution_count": null,
   "metadata": {},
   "outputs": [],
   "source": [
    "import torch\n",
    "\n",
    "import econpy as ep\n",
    "from econpy.lin.tests import test_err, test_est"
   ]
  },
  {
   "cell_type": "code",
   "execution_count": null,
   "metadata": {},
   "outputs": [],
   "source": [
    "n = 2**14\n",
    "d = 2**10\n",
    "\n",
    "def main():\n",
    "    x = torch.empty((d, n), device=ep.lin.base.CUDA).normal_()\n",
    "    fe1 = torch.randint(0, 2**10, (n,), device=ep.lin.base.CUDA)\n",
    "    fe2 = torch.randint(0, 2**8, (n,), device=ep.lin.base.CUDA)\n",
    "    fe3 = torch.randint(0, 2**4, (n,), device=ep.lin.base.CUDA)\n",
    "    fes = torch.stack((fe1, fe2, fe3))\n",
    "    fe_feats1 = torch.cat([torch.ones((1, n), device=ep.lin.base.CUDA)] + [\n",
    "        torch.zeros((fe.max() + 1, n), device=ep.lin.base.CUDA).scatter_(\n",
    "            0, fe.expand(fe.max()+1, n), 1.)[:-1]\n",
    "        for fe in fes])\n",
    "    fe1 = torch.randint(0, 2**8, (n,), device=ep.lin.base.CUDA)\n",
    "    fe2 = torch.randint(0, 2**6, (n,), device=ep.lin.base.CUDA)\n",
    "    fe3 = torch.randint(0, 2**5, (n,), device=ep.lin.base.CUDA)\n",
    "    fe_trends = torch.stack((fe1, fe2, fe3))\n",
    "    fe_trend_ws = torch.stack(tuple(\n",
    "        torch.rand(n, device=ep.lin.base.CUDA) for _ in range(len(fe_trends))))\n",
    "    fe_feats = torch.cat([\n",
    "        torch.zeros((fe.max() + 1, n), device=ep.lin.base.CUDA).scatter_(\n",
    "            0, fe.expand(fe.max() + 1, n), 1) * fe_w\n",
    "        for fe, fe_w in zip(fe_trends, fe_trend_ws)])\n",
    "    fe_feats = torch.cat((fe_feats1, fe_feats))\n",
    "    y = ep.lin.pre.absorb_fes(\n",
    "        x.clone(), fes, fe_trends, fe_trend_ws, eps=2**(-11))\n",
    "    z = ep.lin.pre.absorb(x.clone(), fe_feats)\n",
    "    err1 = torch.linalg.matrix_norm(z - y, 2).div_(\n",
    "        torch.linalg.matrix_norm(x).div_(d**0.5))\n",
    "    err2 = (z - y).abs().max() / x.abs().median()\n",
    "    print(err1, err2)"
   ]
  },
  {
   "cell_type": "code",
   "execution_count": null,
   "metadata": {},
   "outputs": [],
   "source": [
    "main()"
   ]
  },
  {
   "cell_type": "code",
   "execution_count": null,
   "metadata": {},
   "outputs": [],
   "source": [
    "torch.rand((2**2, 2**8)).median(1).values"
   ]
  },
  {
   "cell_type": "code",
   "execution_count": null,
   "metadata": {},
   "outputs": [],
   "source": [
    "test_est.test()"
   ]
  },
  {
   "cell_type": "code",
   "execution_count": null,
   "metadata": {},
   "outputs": [],
   "source": [
    "test_err.test(ep.lin.err.const)"
   ]
  },
  {
   "cell_type": "code",
   "execution_count": null,
   "metadata": {},
   "outputs": [],
   "source": [
    "r = torch.zeros((d, 10), device=ep.lin.base.CUDA)\n",
    "r.scatter_add_(1, fe3.expand(d, -1), y)"
   ]
  },
  {
   "cell_type": "code",
   "execution_count": null,
   "metadata": {},
   "outputs": [],
   "source": []
  }
 ],
 "metadata": {
  "kernelspec": {
   "display_name": "Python 3",
   "language": "python",
   "name": "python3"
  },
  "language_info": {
   "codemirror_mode": {
    "name": "ipython",
    "version": 3
   },
   "file_extension": ".py",
   "mimetype": "text/x-python",
   "name": "python",
   "nbconvert_exporter": "python",
   "pygments_lexer": "ipython3",
   "version": "3.12.3"
  }
 },
 "nbformat": 4,
 "nbformat_minor": 2
}
